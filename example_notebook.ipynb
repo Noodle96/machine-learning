{
 "cells": [
  {
   "cell_type": "markdown",
   "id": "091dee41",
   "metadata": {},
   "source": [
    "![](6-step-my-framework.png)"
   ]
  },
  {
   "cell_type": "markdown",
   "id": "6e3fe5bc",
   "metadata": {},
   "source": [
    "![](6-step-ml-framework.png)"
   ]
  },
  {
   "cell_type": "code",
   "execution_count": null,
   "id": "759410cd",
   "metadata": {},
   "outputs": [],
   "source": []
  }
 ],
 "metadata": {
  "kernelspec": {
   "display_name": "Python 3 (ipykernel)",
   "language": "python",
   "name": "python3"
  },
  "language_info": {
   "codemirror_mode": {
    "name": "ipython",
    "version": 3
   },
   "file_extension": ".py",
   "mimetype": "text/x-python",
   "name": "python",
   "nbconvert_exporter": "python",
   "pygments_lexer": "ipython3",
   "version": "3.10.13"
  }
 },
 "nbformat": 4,
 "nbformat_minor": 5
}
